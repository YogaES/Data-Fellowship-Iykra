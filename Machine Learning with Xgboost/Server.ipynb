{
 "cells": [
  {
   "cell_type": "code",
   "execution_count": 2,
   "metadata": {
    "ExecuteTime": {
     "end_time": "2020-05-10T17:03:16.209357Z",
     "start_time": "2020-05-10T17:03:13.746231Z"
    }
   },
   "outputs": [
    {
     "name": "stdout",
     "output_type": "stream",
     "text": [
      "   Loading Machine Learning Model...\n",
      " * Serving Flask app \"__main__\" (lazy loading)\n",
      " * Environment: production\n",
      "   WARNING: This is a development server. Do not use it in a production deployment.\n",
      "   Use a production WSGI server instead.\n",
      " * Debug mode: on\n"
     ]
    },
    {
     "name": "stderr",
     "output_type": "stream",
     "text": [
      " * Restarting with stat\n"
     ]
    },
    {
     "ename": "SystemExit",
     "evalue": "1",
     "output_type": "error",
     "traceback": [
      "An exception has occurred, use %tb to see the full traceback.\n",
      "\u001b[1;31mSystemExit\u001b[0m\u001b[1;31m:\u001b[0m 1\n"
     ]
    },
    {
     "name": "stderr",
     "output_type": "stream",
     "text": [
      "c:\\users\\hendra\\opencv\\lib\\site-packages\\IPython\\core\\interactiveshell.py:3339: UserWarning: To exit: use 'exit', 'quit', or Ctrl-D.\n",
      "  warn(\"To exit: use 'exit', 'quit', or Ctrl-D.\", stacklevel=1)\n"
     ]
    }
   ],
   "source": [
    "import os\n",
    "import pandas as pd\n",
    "from flask import Flask, jsonify, request, render_template\n",
    "import json\n",
    "import dill as pickle\n",
    "\n",
    "app = Flask(__name__)\n",
    "\n",
    "\n",
    "def load_pk():\n",
    "    model = pickle.load(open(\"xgb_model.pkl\", 'rb'))\n",
    "    columns = pickle.load(open(\"columns.pkl\", 'rb'))\n",
    "    return (model, columns)\n",
    "\n",
    "\n",
    "def json2df(json_data):\n",
    "    print(\"   JSON to DataFrame Process\")\n",
    "    df = pd.DataFrame()\n",
    "    try:\n",
    "        # If the json data consist of more than 2 records\n",
    "        for col in json_data:\n",
    "            for row in json_data[col]:\n",
    "                df.loc[int(row), col] = json_data[col][row]\n",
    "    except:\n",
    "        # If the json_data is 1 record only\n",
    "        for col in json_data:\n",
    "            df.loc[1, col] = json_data[col]\n",
    "    finally:\n",
    "        print(df)\n",
    "        return df\n",
    "\n",
    "\n",
    "@app.route(\"/\")\n",
    "def start():\n",
    "    return render_template(\"home.html\")  \n",
    "\n",
    "\n",
    "@app.route('/predict', methods=['POST'])\n",
    "def apicall():\n",
    "    try:\n",
    "        json_ = request.json\n",
    "        test = json2df(json_)\n",
    "\n",
    "    except Exception as e:\n",
    "        raise e\n",
    "    if test.empty:\n",
    "        return jsonify({})\n",
    "    else:\n",
    "        print(\"   Predict on Process\")\n",
    "        predictions = model.predict(test)\n",
    "        # predictions = pd.DataFrame(predictions, columns=[\"Prediction\"])\n",
    "        # responses = jsonify(predictions.to_json(orient='records'))\n",
    "        responses = jsonify({\"prediction\": str(predictions)})\n",
    "        responses.status_code = 200\n",
    "        return responses\n",
    "\n",
    "\n",
    "if __name__ == \"__main__\":\n",
    "    print(\"   Loading Machine Learning Model...\")\n",
    "    (model, columns) = load_pk()\n",
    "    app.run(host=\"0.0.0.0\",port=5000,debug=True)"
   ]
  },
  {
   "cell_type": "code",
   "execution_count": null,
   "metadata": {},
   "outputs": [],
   "source": []
  }
 ],
 "metadata": {
  "kernelspec": {
   "display_name": "Python 3",
   "language": "python",
   "name": "python3"
  },
  "language_info": {
   "codemirror_mode": {
    "name": "ipython",
    "version": 3
   },
   "file_extension": ".py",
   "mimetype": "text/x-python",
   "name": "python",
   "nbconvert_exporter": "python",
   "pygments_lexer": "ipython3",
   "version": "3.7.7"
  },
  "toc": {
   "base_numbering": 1,
   "nav_menu": {},
   "number_sections": true,
   "sideBar": true,
   "skip_h1_title": false,
   "title_cell": "Table of Contents",
   "title_sidebar": "Contents",
   "toc_cell": false,
   "toc_position": {},
   "toc_section_display": true,
   "toc_window_display": false
  }
 },
 "nbformat": 4,
 "nbformat_minor": 4
}
